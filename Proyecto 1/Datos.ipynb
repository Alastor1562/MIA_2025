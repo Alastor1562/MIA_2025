{
 "cells": [
  {
   "cell_type": "code",
   "execution_count": 19,
   "id": "7faa37f0",
   "metadata": {},
   "outputs": [],
   "source": [
    "import yfinance as yf\n",
    "import pandas as pd\n",
    "import numpy as np\n",
    "from scipy.optimize import minimize"
   ]
  },
  {
   "cell_type": "code",
   "execution_count": 20,
   "id": "064668c4",
   "metadata": {},
   "outputs": [
    {
     "name": "stderr",
     "output_type": "stream",
     "text": [
      "C:\\Users\\samue\\AppData\\Local\\Temp\\ipykernel_11496\\3779400190.py:2: FutureWarning: YF.download() has changed argument auto_adjust default to True\n",
      "  data = yf.download(ticker, start='2020-01-01', end='2025-01-01')['Close']\n",
      "[*********************100%***********************]  3 of 3 completed\n"
     ]
    }
   ],
   "source": [
    "ticker = sorted(['AAPL', 'MSFT', 'GOOGL'])\n",
    "data = yf.download(ticker, start='2020-01-01', end='2025-01-01')['Close']\n",
    "data.to_excel('data.xlsx')"
   ]
  },
  {
   "cell_type": "code",
   "execution_count": 21,
   "id": "75493877",
   "metadata": {},
   "outputs": [
    {
     "data": {
      "text/html": [
       "<div>\n",
       "<style scoped>\n",
       "    .dataframe tbody tr th:only-of-type {\n",
       "        vertical-align: middle;\n",
       "    }\n",
       "\n",
       "    .dataframe tbody tr th {\n",
       "        vertical-align: top;\n",
       "    }\n",
       "\n",
       "    .dataframe thead th {\n",
       "        text-align: right;\n",
       "    }\n",
       "</style>\n",
       "<table border=\"1\" class=\"dataframe\">\n",
       "  <thead>\n",
       "    <tr style=\"text-align: right;\">\n",
       "      <th>Ticker</th>\n",
       "      <th>AAPL</th>\n",
       "      <th>GOOGL</th>\n",
       "      <th>MSFT</th>\n",
       "    </tr>\n",
       "    <tr>\n",
       "      <th>Ticker</th>\n",
       "      <th></th>\n",
       "      <th></th>\n",
       "      <th></th>\n",
       "    </tr>\n",
       "  </thead>\n",
       "  <tbody>\n",
       "    <tr>\n",
       "      <th>AAPL</th>\n",
       "      <td>0.000398</td>\n",
       "      <td>0.000265</td>\n",
       "      <td>0.000287</td>\n",
       "    </tr>\n",
       "    <tr>\n",
       "      <th>GOOGL</th>\n",
       "      <td>0.000265</td>\n",
       "      <td>0.000419</td>\n",
       "      <td>0.000293</td>\n",
       "    </tr>\n",
       "    <tr>\n",
       "      <th>MSFT</th>\n",
       "      <td>0.000287</td>\n",
       "      <td>0.000293</td>\n",
       "      <td>0.000369</td>\n",
       "    </tr>\n",
       "  </tbody>\n",
       "</table>\n",
       "</div>"
      ],
      "text/plain": [
       "Ticker      AAPL     GOOGL      MSFT\n",
       "Ticker                              \n",
       "AAPL    0.000398  0.000265  0.000287\n",
       "GOOGL   0.000265  0.000419  0.000293\n",
       "MSFT    0.000287  0.000293  0.000369"
      ]
     },
     "execution_count": 21,
     "metadata": {},
     "output_type": "execute_result"
    }
   ],
   "source": [
    "rets.cov()"
   ]
  },
  {
   "cell_type": "code",
   "execution_count": 22,
   "id": "7d6d1a84",
   "metadata": {},
   "outputs": [],
   "source": [
    "def opt_min_var(tickers: list, start: str, end: str) -> np.array:\n",
    "    # Obtener precios\n",
    "    prices = yf.download(tickers, start=start, end=end, progress=False)['Close']\n",
    "\n",
    "    # Obtener rendimiento\n",
    "    returns = prices.pct_change().dropna()\n",
    "\n",
    "    # Obtener rendimiento promedio\n",
    "    mean_returns = returns.mean()\n",
    "\n",
    "    # Obtener matriz de covariânza varianza\n",
    "    cov = returns.cov()\n",
    "\n",
    "    # Definir funcion objetivo\n",
    "    varianza = lambda w: w.T @ cov @ w\n",
    "\n",
    "    # Definir valores iniciales\n",
    "    n = len(tickers)\n",
    "    w_inicial = np.ones(n) / n\n",
    "\n",
    "    # Definir las cotas\n",
    "    cotas = [(0, 1)] * n\n",
    "\n",
    "    # Definir las restricciones --> Debe estar igualada a 0 en scipy\n",
    "    restricciones = lambda w: np.sum(w) - 1\n",
    "\n",
    "    # Definir tolerancia\n",
    "    tol = 1e-20\n",
    "\n",
    "    # Aplicar función de scipy.optimize\n",
    "    result = minimize(fun = varianza, \n",
    "             x0 = w_inicial, \n",
    "             bounds = cotas, \n",
    "             constraints = {'fun': restricciones, 'type': 'eq'}, \n",
    "             tol = tol)\n",
    "\n",
    "    # Encontrar pesos eficientes \n",
    "    w_opt = result.x\n",
    "\n",
    "    # Rendimiento del potafolio\n",
    "    rend_p = np.dot(w_opt, mean_returns)\n",
    "\n",
    "    # Volatilidad del portafolio\n",
    "    vol_p = np.sqrt(w_opt.T @ cov @ w_opt)\n",
    "\n",
    "    return w_opt, rend_p, vol_p"
   ]
  },
  {
   "cell_type": "code",
   "execution_count": 23,
   "id": "df03336c",
   "metadata": {},
   "outputs": [
    {
     "name": "stderr",
     "output_type": "stream",
     "text": [
      "C:\\Users\\samue\\AppData\\Local\\Temp\\ipykernel_11496\\3034305429.py:3: FutureWarning: YF.download() has changed argument auto_adjust default to True\n",
      "  prices = yf.download(tickers, start=start, end=end, progress=False)['Close']\n"
     ]
    },
    {
     "data": {
      "text/plain": [
       "array([0.3459348 , 0.28315202, 0.37091318])"
      ]
     },
     "execution_count": 23,
     "metadata": {},
     "output_type": "execute_result"
    }
   ],
   "source": [
    "w, rend, vol = opt_min_var(ticker, '2020-01-01', '2025-01-01')\n",
    "w"
   ]
  },
  {
   "cell_type": "code",
   "execution_count": 24,
   "id": "2146eda0",
   "metadata": {},
   "outputs": [
    {
     "data": {
      "text/plain": [
       "np.float64(0.0003192404488941707)"
      ]
     },
     "execution_count": 24,
     "metadata": {},
     "output_type": "execute_result"
    }
   ],
   "source": [
    "vol**2"
   ]
  },
  {
   "cell_type": "code",
   "execution_count": null,
   "id": "c48c0821",
   "metadata": {},
   "outputs": [],
   "source": []
  }
 ],
 "metadata": {
  "kernelspec": {
   "display_name": "Python 3",
   "language": "python",
   "name": "python3"
  },
  "language_info": {
   "codemirror_mode": {
    "name": "ipython",
    "version": 3
   },
   "file_extension": ".py",
   "mimetype": "text/x-python",
   "name": "python",
   "nbconvert_exporter": "python",
   "pygments_lexer": "ipython3",
   "version": "3.13.7"
  }
 },
 "nbformat": 4,
 "nbformat_minor": 5
}
